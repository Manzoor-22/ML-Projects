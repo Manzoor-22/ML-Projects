{
 "cells": [
  {
   "cell_type": "code",
   "execution_count": 2,
   "metadata": {},
   "outputs": [],
   "source": [
    "# Step 1: Import Libraries\n",
    "import pandas as pd\n",
    "import numpy as np\n",
    "from sklearn.model_selection import train_test_split\n",
    "from sklearn.linear_model import LogisticRegression\n",
    "from sklearn.preprocessing import StandardScaler\n",
    "from sklearn.metrics import accuracy_score, classification_report, confusion_matrix"
   ]
  },
  {
   "cell_type": "code",
   "execution_count": 3,
   "metadata": {},
   "outputs": [
    {
     "name": "stdout",
     "output_type": "stream",
     "text": [
      "Dataset Loaded Successfully!\n",
      "First 5 Rows of the Dataset:\n",
      "   gravity    ph  osmo  cond  urea  calc  target\n",
      "0    1.021  4.91   725  14.0   443  2.45       0\n",
      "1    1.017  5.74   577  20.0   296  4.49       0\n",
      "2    1.008  7.20   321  14.9   101  2.36       0\n",
      "3    1.011  5.51   408  12.6   224  2.15       0\n",
      "4    1.005  6.52   187   7.5    91  1.16       0\n"
     ]
    }
   ],
   "source": [
    "# Step 2: Load the Dataset\n",
    "file_path = 'kidney-stone-dataset.csv'  # Update this path as per your file location\n",
    "\n",
    "try:\n",
    "    # Load the dataset\n",
    "    df = pd.read_csv(file_path)\n",
    "    print(\"Dataset Loaded Successfully!\")\n",
    "    print(\"First 5 Rows of the Dataset:\")\n",
    "    print(df.head())\n",
    "except FileNotFoundError:\n",
    "    print(\"Error: The file 'kidney-stone-dataset.csv' was not found. Please check the file path.\")\n",
    "    exit()"
   ]
  },
  {
   "cell_type": "code",
   "execution_count": 4,
   "metadata": {},
   "outputs": [
    {
     "name": "stdout",
     "output_type": "stream",
     "text": [
      "\n",
      "Checking for Missing Values:\n",
      "gravity    0\n",
      "ph         0\n",
      "osmo       0\n",
      "cond       0\n",
      "urea       0\n",
      "calc       0\n",
      "target     0\n",
      "dtype: int64\n",
      "\n",
      "After Dropping Missing Values, Dataset Shape: (79, 7)\n",
      "\n",
      "Dataset Columns: Index(['gravity', 'ph', 'osmo', 'cond', 'urea', 'calc', 'target'], dtype='object')\n"
     ]
    }
   ],
   "source": [
    "# Step 3: Data Preprocessing\n",
    "print(\"\\nChecking for Missing Values:\")\n",
    "print(df.isnull().sum())\n",
    "\n",
    "# Drop rows with missing values (optional: can replace missing values with mean/median if needed)\n",
    "df = df.dropna()\n",
    "print(f\"\\nAfter Dropping Missing Values, Dataset Shape: {df.shape}\")\n",
    "\n",
    "# Verify column names\n",
    "print(\"\\nDataset Columns:\", df.columns)\n",
    "\n",
    "# Ensure the expected columns are present\n",
    "expected_columns = {'gravity', 'ph', 'osmo', 'cond', 'urea', 'calc', 'target'}\n",
    "if not expected_columns.issubset(df.columns):\n",
    "    print(\"Error: Dataset does not have the expected columns. Exiting...\")\n",
    "    exit()\n",
    "\n",
    "# Define features (X) and target (y)\n",
    "X = df.drop(columns=['target'])  # Features: gravity, ph, osmo, cond, urea, calc\n",
    "y = df['target']  # Target: Binary classification (0 or 1)\n",
    "\n",
    "# Scale numerical features\n",
    "scaler = StandardScaler()\n",
    "X_scaled = scaler.fit_transform(X)"
   ]
  },
  {
   "cell_type": "code",
   "execution_count": 5,
   "metadata": {},
   "outputs": [
    {
     "name": "stdout",
     "output_type": "stream",
     "text": [
      "\n",
      "Data Split Successfully!\n",
      "Training Samples: 63, Testing Samples: 16\n"
     ]
    }
   ],
   "source": [
    "# Step 4: Split the Data\n",
    "X_train, X_test, y_train, y_test = train_test_split(X_scaled, y, test_size=0.2, random_state=42, stratify=y)\n",
    "print(\"\\nData Split Successfully!\")\n",
    "print(f\"Training Samples: {X_train.shape[0]}, Testing Samples: {X_test.shape[0]}\")"
   ]
  },
  {
   "cell_type": "code",
   "execution_count": 6,
   "metadata": {},
   "outputs": [
    {
     "name": "stdout",
     "output_type": "stream",
     "text": [
      "\n",
      "Logistic Regression Model Trained Successfully!\n"
     ]
    }
   ],
   "source": [
    "# Step 5: Train the Logistic Regression Model\n",
    "log_reg = LogisticRegression()\n",
    "log_reg.fit(X_train, y_train)\n",
    "print(\"\\nLogistic Regression Model Trained Successfully!\")"
   ]
  },
  {
   "cell_type": "code",
   "execution_count": 7,
   "metadata": {},
   "outputs": [
    {
     "name": "stdout",
     "output_type": "stream",
     "text": [
      "\n",
      "Model Accuracy: 0.75\n",
      "\n",
      "Classification Report:\n",
      "              precision    recall  f1-score   support\n",
      "\n",
      "           0       0.86      0.67      0.75         9\n",
      "           1       0.67      0.86      0.75         7\n",
      "\n",
      "    accuracy                           0.75        16\n",
      "   macro avg       0.76      0.76      0.75        16\n",
      "weighted avg       0.77      0.75      0.75        16\n",
      "\n",
      "Confusion Matrix:\n",
      "[[6 3]\n",
      " [1 6]]\n"
     ]
    }
   ],
   "source": [
    "# Step 6: Evaluate the Model\n",
    "y_pred = log_reg.predict(X_test)\n",
    "\n",
    "# Model Performance\n",
    "accuracy = accuracy_score(y_test, y_pred)\n",
    "print(f\"\\nModel Accuracy: {accuracy:.2f}\")\n",
    "print(\"\\nClassification Report:\")\n",
    "print(classification_report(y_test, y_pred))\n",
    "\n",
    "print(\"Confusion Matrix:\")\n",
    "print(confusion_matrix(y_test, y_pred))"
   ]
  },
  {
   "cell_type": "code",
   "execution_count": 8,
   "metadata": {},
   "outputs": [
    {
     "name": "stdout",
     "output_type": "stream",
     "text": [
      "\n",
      "Model Accuracy: 0.75\n",
      "\n",
      "Classification Report:\n",
      "              precision    recall  f1-score   support\n",
      "\n",
      "           0       0.86      0.67      0.75         9\n",
      "           1       0.67      0.86      0.75         7\n",
      "\n",
      "    accuracy                           0.75        16\n",
      "   macro avg       0.76      0.76      0.75        16\n",
      "weighted avg       0.77      0.75      0.75        16\n",
      "\n",
      "Confusion Matrix:\n",
      "[[6 3]\n",
      " [1 6]]\n",
      "\n",
      "--- Kidney Stone Detection Prediction ---\n",
      "Enter the following details to predict kidney stone presence:\n",
      "\n",
      "Prediction: Kidney Stone Detected (Positive Diagnosis).\n"
     ]
    }
   ],
   "source": [
    "# Step 6: Evaluate the Model\n",
    "y_pred = log_reg.predict(X_test)\n",
    "\n",
    "# Model Performance\n",
    "accuracy = accuracy_score(y_test, y_pred)\n",
    "print(f\"\\nModel Accuracy: {accuracy:.2f}\")\n",
    "print(\"\\nClassification Report:\")\n",
    "print(classification_report(y_test, y_pred))\n",
    "\n",
    "print(\"Confusion Matrix:\")\n",
    "print(confusion_matrix(y_test, y_pred))\n",
    "\n",
    "# Step 7: Predict for New User Input\n",
    "print(\"\\n--- Kidney Stone Detection Prediction ---\")\n",
    "print(\"Enter the following details to predict kidney stone presence:\")\n",
    "\n",
    "# Collect user input dynamically\n",
    "user_input = {}\n",
    "\n",
    "try:\n",
    "    user_input['gravity'] = float(input(\"Gravity (e.g., 1.005 to 1.035): \"))\n",
    "    user_input['ph'] = float(input(\"pH Level (e.g., 4.5 to 8): \"))\n",
    "    user_input['osmo'] = float(input(\"Osmolality (e.g., 100 to 1200): \"))\n",
    "    user_input['cond'] = float(input(\"Conductivity (e.g., 5 to 30): \"))\n",
    "    user_input['urea'] = float(input(\"Urea Level (mg/dL): \"))\n",
    "    user_input['calc'] = float(input(\"Calcium Level (mg/dL): \"))\n",
    "\n",
    "    # Convert input into DataFrame\n",
    "    user_data = pd.DataFrame([user_input])\n",
    "\n",
    "    # Scale input features\n",
    "    user_data_scaled = scaler.transform(user_data)\n",
    "\n",
    "    # Predict\n",
    "    prediction = log_reg.predict(user_data_scaled)\n",
    "\n",
    "    # Output result\n",
    "    if prediction[0] == 1:\n",
    "        print(\"\\nPrediction: Kidney Stone Detected (Positive Diagnosis).\")\n",
    "    else:\n",
    "        print(\"\\nPrediction: No Kidney Stone Detected (Negative Diagnosis).\")\n",
    "\n",
    "except Exception as e:\n",
    "    print(\"Error in input. Please ensure correct numeric values are entered.\")\n",
    "    print(\"Details:\", e)"
   ]
  },
  {
   "cell_type": "code",
   "execution_count": null,
   "metadata": {},
   "outputs": [],
   "source": []
  }
 ],
 "metadata": {
  "kernelspec": {
   "display_name": "base",
   "language": "python",
   "name": "python3"
  },
  "language_info": {
   "codemirror_mode": {
    "name": "ipython",
    "version": 3
   },
   "file_extension": ".py",
   "mimetype": "text/x-python",
   "name": "python",
   "nbconvert_exporter": "python",
   "pygments_lexer": "ipython3",
   "version": "3.12.4"
  }
 },
 "nbformat": 4,
 "nbformat_minor": 2
}
