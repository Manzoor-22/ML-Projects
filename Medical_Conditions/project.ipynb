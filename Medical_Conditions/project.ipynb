{
 "cells": [
  {
   "cell_type": "markdown",
   "metadata": {},
   "source": [
    "Medical Condition Classification"
   ]
  },
  {
   "cell_type": "code",
   "execution_count": 21,
   "metadata": {},
   "outputs": [],
   "source": [
    "# Import required libraries\n",
    "import pandas as pd\n",
    "from sklearn.model_selection import train_test_split\n",
    "from sklearn.ensemble import RandomForestClassifier\n",
    "from sklearn.metrics import accuracy_score, classification_report, confusion_matrix\n",
    "from sklearn.preprocessing import LabelEncoder"
   ]
  },
  {
   "cell_type": "code",
   "execution_count": 22,
   "metadata": {},
   "outputs": [
    {
     "name": "stdout",
     "output_type": "stream",
     "text": [
      "Dataset Overview:\n",
      "   id full_name   age gender smoking_status        bmi  blood_pressure  \\\n",
      "0   1  User0001   NaN   male     Non-Smoker        NaN             NaN   \n",
      "1   2  User0002  30.0   male     Non-Smoker        NaN      105.315064   \n",
      "2   3  User0003  18.0   male     Non-Smoker  35.612486             NaN   \n",
      "3   4  User0004   NaN   male     Non-Smoker        NaN       99.119829   \n",
      "4   5  User0005  76.0   male     Non-Smoker        NaN             NaN   \n",
      "\n",
      "   glucose_levels  condition  \n",
      "0             NaN  Pneumonia  \n",
      "1             NaN   Diabetic  \n",
      "2             NaN  Pneumonia  \n",
      "3             NaN  Pneumonia  \n",
      "4             NaN   Diabetic  \n"
     ]
    }
   ],
   "source": [
    "# Load the dataset\n",
    "file_path = 'medical_conditions_dataset.csv'  # Replace with the correct path to your CSV file\n",
    "df = pd.read_csv(file_path)\n",
    "\n",
    "# Display the first few rows of the dataset\n",
    "print(\"Dataset Overview:\")\n",
    "print(df.head())"
   ]
  },
  {
   "cell_type": "code",
   "execution_count": 23,
   "metadata": {},
   "outputs": [
    {
     "name": "stdout",
     "output_type": "stream",
     "text": [
      "\n",
      "Preprocessed Data:\n",
      "    age  gender  smoking_status        bmi  blood_pressure  glucose_levels  \\\n",
      "0   NaN       1               0        NaN             NaN             NaN   \n",
      "1  30.0       1               0        NaN      105.315064             NaN   \n",
      "2  18.0       1               0  35.612486             NaN             NaN   \n",
      "3   NaN       1               0        NaN       99.119829             NaN   \n",
      "4  76.0       1               0        NaN             NaN             NaN   \n",
      "\n",
      "   condition  \n",
      "0          2  \n",
      "1          1  \n",
      "2          2  \n",
      "3          2  \n",
      "4          1  \n"
     ]
    }
   ],
   "source": [
    "# Step 1: Data Preprocessing\n",
    "# Drop unnecessary columns\n",
    "df = df.drop(columns=['id', 'full_name'], axis=1)\n",
    "\n",
    "# Encode categorical features: 'gender', 'smoking_status', 'condition'\n",
    "label_encoders = {}\n",
    "categorical_columns = ['gender', 'smoking_status', 'condition']\n",
    "\n",
    "for column in categorical_columns:\n",
    "    le = LabelEncoder()\n",
    "    df[column] = le.fit_transform(df[column])\n",
    "    label_encoders[column] = le  # Store the encoder for future use\n",
    "\n",
    "# Display the preprocessed data\n",
    "print(\"\\nPreprocessed Data:\")\n",
    "print(df.head())"
   ]
  },
  {
   "cell_type": "code",
   "execution_count": 24,
   "metadata": {},
   "outputs": [],
   "source": [
    "# Step 2: Define Features and Target\n",
    "X = df.drop(columns=['condition'])  # Features\n",
    "y = df['condition']  # Target variable\n",
    "\n",
    "# Split the data into training and testing sets (80% train, 20% test)\n",
    "X_train, X_test, y_train, y_test = train_test_split(X, y, test_size=0.2, random_state=42, stratify=y)"
   ]
  },
  {
   "cell_type": "code",
   "execution_count": 25,
   "metadata": {},
   "outputs": [],
   "source": [
    "# Step 3: Train the Random Forest Classifier\n",
    "clf = RandomForestClassifier(n_estimators=100, random_state=42)\n",
    "clf.fit(X_train, y_train)\n",
    "\n",
    "# Step 4: Evaluate the Model\n",
    "y_pred = clf.predict(X_test)"
   ]
  },
  {
   "cell_type": "code",
   "execution_count": 26,
   "metadata": {},
   "outputs": [
    {
     "name": "stdout",
     "output_type": "stream",
     "text": [
      "\n",
      "Model Performance:\n",
      "Accuracy: 0.5325\n",
      "\n",
      "Classification Report:\n",
      "              precision    recall  f1-score   support\n",
      "\n",
      "           0       0.19      0.06      0.09       292\n",
      "           1       0.60      0.81      0.69      1203\n",
      "           2       0.26      0.15      0.19       505\n",
      "\n",
      "    accuracy                           0.53      2000\n",
      "   macro avg       0.35      0.34      0.32      2000\n",
      "weighted avg       0.45      0.53      0.48      2000\n",
      "\n",
      "\n",
      "Confusion Matrix:\n",
      "[[ 18 237  37]\n",
      " [ 56 973 174]\n",
      " [ 23 408  74]]\n"
     ]
    }
   ],
   "source": [
    "# Print evaluation metrics\n",
    "print(\"\\nModel Performance:\")\n",
    "print(\"Accuracy:\", accuracy_score(y_test, y_pred))\n",
    "print(\"\\nClassification Report:\")\n",
    "print(classification_report(y_test, y_pred))\n",
    "\n",
    "# Confusion Matrix\n",
    "print(\"\\nConfusion Matrix:\")\n",
    "print(confusion_matrix(y_test, y_pred))"
   ]
  },
  {
   "cell_type": "code",
   "execution_count": 27,
   "metadata": {},
   "outputs": [
    {
     "name": "stdout",
     "output_type": "stream",
     "text": [
      "\n",
      "Prediction on New Data:\n",
      "Predicted Condition: Diabetic\n"
     ]
    }
   ],
   "source": [
    "# Step 5: Predict on New Data (Optional)\n",
    "# Example new data (replace with actual values as needed)\n",
    "new_data = pd.DataFrame({\n",
    "    'age': [45],\n",
    "    'gender': label_encoders['gender'].transform(['male']),\n",
    "    'smoking_status': label_encoders['smoking_status'].transform(['Smoker']),\n",
    "    'bmi': [28.5],\n",
    "    'blood_pressure': [140],\n",
    "    'glucose_levels': [90]\n",
    "})\n",
    "\n",
    "prediction = clf.predict(new_data)\n",
    "condition_pred = label_encoders['condition'].inverse_transform(prediction)\n",
    "\n",
    "print(\"\\nPrediction on New Data:\")\n",
    "print(\"Predicted Condition:\", condition_pred[0])\n"
   ]
  }
 ],
 "metadata": {
  "kernelspec": {
   "display_name": "base",
   "language": "python",
   "name": "python3"
  },
  "language_info": {
   "codemirror_mode": {
    "name": "ipython",
    "version": 3
   },
   "file_extension": ".py",
   "mimetype": "text/x-python",
   "name": "python",
   "nbconvert_exporter": "python",
   "pygments_lexer": "ipython3",
   "version": "3.12.4"
  }
 },
 "nbformat": 4,
 "nbformat_minor": 2
}
